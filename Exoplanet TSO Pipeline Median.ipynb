{
 "cells": [
  {
   "cell_type": "code",
   "execution_count": null,
   "metadata": {},
   "outputs": [],
   "source": [
    "%load_ext autoreload\n",
    "%autoreload 2"
   ]
  },
  {
   "cell_type": "code",
   "execution_count": null,
   "metadata": {},
   "outputs": [],
   "source": [
    "%matplotlib inline\n",
    "\n",
    "from astroML.plotting          import hist\n",
    "from astropy.io                import fits\n",
    "from astropy.modeling          import models, fitting\n",
    "from datetime                  import datetime\n",
    "from image_registration        import cross_correlation_shifts\n",
    "from glob                      import glob\n",
    "from matplotlib.ticker         import MaxNLocator\n",
    "from matplotlib                import style\n",
    "from os                        import listdir\n",
    "from least_asymmetry.asym      import actr, moments, fitgaussian\n",
    "from multiprocessing           import cpu_count, Pool\n",
    "from numpy                     import min as npmin, max as npmax, zeros, arange, sum, float, isnan, hstack\n",
    "from numpy                     import int32 as npint, round as npround, nansum as sum, nanstd as std\n",
    "from os                        import environ\n",
    "from pandas                    import DataFrame, read_csv, read_pickle, scatter_matrix\n",
    "from photutils                 import CircularAperture, CircularAnnulus, aperture_photometry, findstars\n",
    "from pylab                     import ion, gcf, sort, linspace, indices, median, mean, std, empty, figure, transpose, ceil\n",
    "from pylab                     import concatenate, pi, sqrt, ones, diag, inf, rcParams, isnan, isfinite, array, nanmax\n",
    "from pylab                     import figure, plot, imshow\n",
    "from seaborn                   import *\n",
    "from scipy.special             import erf\n",
    "from scipy                     import stats\n",
    "from sklearn.externals         import joblib\n",
    "from socket                    import gethostname\n",
    "from statsmodels.robust        import scale\n",
    "from statsmodels.nonparametric import kde\n",
    "from sys                       import exit\n",
    "from time                      import time, localtime\n",
    "\n",
    "from numpy                     import zeros, nanmedian as median, nanmean as mean, nan\n",
    "from sys                       import exit\n",
    "from sklearn.externals         import joblib\n",
    "\n",
    "import numpy as np"
   ]
  },
  {
   "cell_type": "code",
   "execution_count": null,
   "metadata": {},
   "outputs": [],
   "source": [
    "startFull = time()"
   ]
  },
  {
   "cell_type": "markdown",
   "metadata": {},
   "source": [
    "**Master Class for Exoplanet Time Series Observation Photometry**"
   ]
  },
  {
   "cell_type": "code",
   "execution_count": null,
   "metadata": {},
   "outputs": [],
   "source": [
    "from ExoplanetTSO_Auxiliary import wanderer"
   ]
  },
  {
   "cell_type": "code",
   "execution_count": null,
   "metadata": {},
   "outputs": [],
   "source": [
    "rcParams['image.interpolation'] = 'None'\n",
    "rcParams['image.cmap']          = 'Blues_r'\n",
    "rcParams['axes.grid']           = False"
   ]
  },
  {
   "cell_type": "markdown",
   "metadata": {},
   "source": [
    "As an example, Spitzer data is expected to be store in the directory structure:\n",
    "\n",
    "`$HOME/PLANET_DIRECTORY/PLANETNAME/data/raw/AORDIR/CHANNEL/bcd/`\n",
    "\n",
    "EXAMPLE:\n",
    "\n",
    "1. On a Linux machine\n",
    "2. With user `tempuser`,\n",
    "3. And all Spitzer data is store in `Research/Planets`\n",
    "4. The planet named `Happy-5b`\n",
    "5. Observed during AOR r11235813\n",
    "6. In CH2 (4.5 microns)\n",
    "\n",
    "The `loadfitsdir` should read as: `/home/tempuser/Research/Planets/HAPPY5/data/raw/r11235813/ch2/bcd/`"
   ]
  },
  {
   "cell_type": "code",
   "execution_count": null,
   "metadata": {},
   "outputs": [],
   "source": [
    "planetName      = 'example'\n",
    "planetDirectory = '/path/to/example/base/directory/'\n",
    "\n",
    "dataDir     = environ['HOME'] + planetDirectory + planetName + '/data/raw/'\n",
    "\n",
    "# This is only a list as an example because it the following code can be used to combine multiple AORs\n",
    "AORs    = ['r12345678', 'r11234580']\n",
    "\n",
    "channel = 'ch2/'\n",
    "\n",
    "dataSub = 'bcd/'\n",
    "\n",
    "fileExt = '*bcd.fits'\n",
    "uncsExt = '*bunc.fits'"
   ]
  },
  {
   "cell_type": "code",
   "execution_count": null,
   "metadata": {},
   "outputs": [],
   "source": [
    "iAOR        = INTEGER\n",
    "AORNow      = AORs[iAOR]\n",
    "loadfitsdir = dataDir + AORNow + '/' + channel + dataSub\n",
    "print(loadfitsdir)"
   ]
  },
  {
   "cell_type": "code",
   "execution_count": null,
   "metadata": {
    "scrolled": false
   },
   "outputs": [],
   "source": [
    "fitsFilenames = glob(loadfitsdir + fileExt)\n",
    "uncsFilenames = glob(loadfitsdir + uncsExt)"
   ]
  },
  {
   "cell_type": "code",
   "execution_count": null,
   "metadata": {},
   "outputs": [],
   "source": [
    "len(fitsFilenames), len(uncsFilenames)"
   ]
  },
  {
   "cell_type": "code",
   "execution_count": null,
   "metadata": {},
   "outputs": [],
   "source": [
    "fitsFilenames"
   ]
  },
  {
   "cell_type": "code",
   "execution_count": null,
   "metadata": {},
   "outputs": [],
   "source": [
    "uncsFilenames"
   ]
  },
  {
   "cell_type": "markdown",
   "metadata": {},
   "source": [
    "# Load ExoplanetTSO Class"
   ]
  },
  {
   "cell_type": "markdown",
   "metadata": {},
   "source": [
    "Necessary Constants Spitzer\n",
    "---"
   ]
  },
  {
   "cell_type": "code",
   "execution_count": null,
   "metadata": {},
   "outputs": [],
   "source": [
    "ppm             = 1e6\n",
    "y,x             = 0,1\n",
    "\n",
    "yguess, xguess  = 15., 15.   # Specific to Spitzer circa 2010 and beyond\n",
    "filetype        = 'bcd.fits' # Specific to Spitzer Basic Calibrated Data"
   ]
  },
  {
   "cell_type": "markdown",
   "metadata": {},
   "source": [
    "Load Stored Instance from Save Files\n",
    "---"
   ]
  },
  {
   "cell_type": "markdown",
   "metadata": {},
   "source": [
    "If this is **not** your time, then you can load a saved file in the `loadfitsdir` directory that has the filename:\n",
    "\n",
    "`PLANETNAME_Wanderer_METHOD_DATE.pickle.save` "
   ]
  },
  {
   "cell_type": "markdown",
   "metadata": {},
   "source": [
    "```python\n",
    "method = 'mean'\n",
    "example_wanderer_mean = wanderer(loadfitsdir=loadfitsdir, filetype=filetype, \n",
    "                                            yguess=yguess, xguess=xguess, method=method)\n",
    "\n",
    "example_wanderer_mean.load_data_from_save_files(savefiledir='./SaveFiles/', \n",
    "                        saveFileNameHeader=planetName+'_Wanderer_Mean_', saveFileType='.pickle.save')\n",
    "```"
   ]
  },
  {
   "cell_type": "markdown",
   "metadata": {
    "collapsed": true
   },
   "source": [
    "```python\n",
    "method = 'median'\n",
    "example_wanderer_median = wanderer(loadfitsdir=loadfitsdir_ModA, filetype=filetype, \n",
    "                                            yguess=yguess, xguess=xguess, method=method)\n",
    "\n",
    "example_wanderer_median.load_data_from_save_files(savefiledir='./SaveFiles/', saveFileNameHeader='Example_Wanderer_Median_', saveFileType='.pickle.save')\n",
    "```"
   ]
  },
  {
   "cell_type": "markdown",
   "metadata": {},
   "source": [
    "Start a New Instance with Median for the Metric\n",
    "---"
   ]
  },
  {
   "cell_type": "code",
   "execution_count": null,
   "metadata": {},
   "outputs": [],
   "source": [
    "method = 'median'\n",
    "\n",
    "print('Initialize an instance of `wanderer` as `example_wanderer_median`\\n')\n",
    "example_wanderer_median = wanderer(fitsFileDir=loadfitsdir, filetype=filetype, telescope='Spitzer',\n",
    "                                            yguess=yguess, xguess=xguess, method=method, nCores=cpu_count())"
   ]
  },
  {
   "cell_type": "code",
   "execution_count": null,
   "metadata": {
    "scrolled": true
   },
   "outputs": [],
   "source": [
    "print('Load Data From Fits Files in ' + loadfitsdir + '\\n')\n",
    "example_wanderer_median.load_data_from_fits_files()"
   ]
  },
  {
   "cell_type": "code",
   "execution_count": null,
   "metadata": {},
   "outputs": [],
   "source": [
    "print('Skipping Load Data From Save Files in ' + loadfitsdir + '\\n')\n",
    "# example_wanderer_median.load_data_from_save_files(savefiledir='./SaveFiles/', saveFileNameHeader='Example_Wanderer_Median_', saveFileType='.pickle.save')"
   ]
  },
  {
   "cell_type": "code",
   "execution_count": null,
   "metadata": {},
   "outputs": [],
   "source": [
    "print('Find, flag, and NaN the \"Bad Pixels\" Outliers' + '\\n')\n",
    "example_wanderer_median.find_bad_pixels()"
   ]
  },
  {
   "cell_type": "code",
   "execution_count": null,
   "metadata": {},
   "outputs": [],
   "source": [
    "print('Fit for All Centers: Flux Weighted, Gaussian Fitting, Gaussian Moments, Least Asymmetry' + '\\n')\n",
    "# example_wanderer_median.fit_gaussian_centering()\n",
    "example_wanderer_median.fit_flux_weighted_centering()\n",
    "# example_wanderer_median.fit_least_asymmetry_centering()\n",
    "# example_wanderer_median.fit_all_centering() # calling this calls least_asymmetry, which does not work :("
   ]
  },
  {
   "cell_type": "code",
   "execution_count": null,
   "metadata": {},
   "outputs": [],
   "source": [
    "start = time()\n",
    "example_wanderer_median.mp_lmfit_gaussian_centering()\n",
    "print('Operation took {} seconds with {} cores'.format(time()-start, example_wanderer_median.nCores))\n",
    "\n",
    "# start = time()\n",
    "# example_wanderer_median.mp_fit_flux_weighted_centering()\n",
    "# print('Operation took {} seconds with {} cores'.format(time()-start, example_wanderer_median.nCores))"
   ]
  },
  {
   "cell_type": "code",
   "execution_count": null,
   "metadata": {},
   "outputs": [],
   "source": [
    "example_wanderer_median.centering_FluxWeight[0]"
   ]
  },
  {
   "cell_type": "code",
   "execution_count": null,
   "metadata": {},
   "outputs": [],
   "source": [
    "print('Measure Background Estimates with All Methods: Circle Masked, Annular Masked, KDE Mode, Median Masked' + '\\n')\n",
    "# example_wanderer_median.measure_background_circle_masked()\n",
    "# example_wanderer_median.measure_background_annular_mask()\n",
    "# example_wanderer_median.measure_background_KDE_Mode()\n",
    "# example_wanderer_median.measure_background_median_masked()\n",
    "example_wanderer_median.measure_all_background()"
   ]
  },
  {
   "cell_type": "raw",
   "metadata": {},
   "source": [
    "example_wanderer_median.mp_measure_background_circle_masked()\n",
    "example_wanderer_median.mp_measure_background_annular_mask()\n",
    "example_wanderer_median.mp_measure_background_KDE_Mode()\n",
    "example_wanderer_median.mp_measure_background_median_masked()"
   ]
  },
  {
   "cell_type": "code",
   "execution_count": null,
   "metadata": {},
   "outputs": [],
   "source": [
    "example_wanderer_median.measure_effective_width()"
   ]
  },
  {
   "cell_type": "raw",
   "metadata": {},
   "source": [
    "def compute_flux_over_time_over_aperRad(staticRads=[0.0], varRads=[None], centering_choices=[], background_choices=[], \\\n",
    "                                        useTheForce=False, verbose=False):\n",
    "    start = time()\n",
    "    for bgNow in background_choices:\n",
    "        for ctrNow in centering_choices:\n",
    "            for staticRad in staticRads:\n",
    "                for varRad in varRads:\n",
    "                    if verbose: \n",
    "                        print('Working on Background {} with Centering {} and AperRad {}'.format(bgNow, ctrNow, aperRad), end=\" \")\n",
    "                    example_wanderer_median.compute_flux_over_time(staticRad=staticRad, varRad=varRad, \\\n",
    "                                                                   centering=ctrNow, background=bgNow, \\\n",
    "                                                                   useTheForce=useTheForce)\n",
    "                    \n",
    "                    flux_key_now  = ctrNow + '_' + bgNow+'_' + 'rad' + '_' + str(aperRad)  + '_None'\n",
    "                    if verbose:\n",
    "                        print(std(example_wanderer_median.flux_TSO_df[flux_key_now] / median(example_wanderer_median.flux_TSO_df[flux_key_now]))*ppm)\n",
    "    \n",
    "    print('Operation took: ', time()-start)"
   ]
  },
  {
   "cell_type": "raw",
   "metadata": {},
   "source": [
    "flux_TSO_df_mp_save = example_wanderer_median.flux_TSO_df"
   ]
  },
  {
   "cell_type": "code",
   "execution_count": null,
   "metadata": {},
   "outputs": [],
   "source": [
    "example_wanderer_median.flux_TSO_df = DataFrame()"
   ]
  },
  {
   "cell_type": "code",
   "execution_count": null,
   "metadata": {
    "scrolled": true
   },
   "outputs": [],
   "source": [
    "print('Iterating over Background Techniques, Centering Techniques, Aperture Radii' + '\\n')\n",
    "centering_choices  = ['Gaussian_Fit']#, 'Gaussian_Mom', 'FluxWeighted']#, 'LeastAsymmetry']\n",
    "background_choices = ['AnnularMask']#example_wanderer_median.background_df.columns\n",
    "staticRads         = [2.5 ]# aperRads = np.arange(1, 6,0.5)\n",
    "varRads            = [None]# aperRads = np.arange(1, 6,0.5)\n",
    "\n",
    "# example_wanderer_median.compute_flux_over_time_over_aperRad(staticRads, centering_choices, \\\n",
    "#                                                             background_choices, useTheForce=True)\n",
    "startMPFlux = time()\n",
    "example_wanderer_median.mp_compute_flux_over_time(staticRads[0], centering_choices[0], \\\n",
    "                                                            background_choices[0], useTheForce=True)\n",
    "print('Entire Pipeline took {} seconds'.format(time() - startMPFlux))"
   ]
  },
  {
   "cell_type": "code",
   "execution_count": null,
   "metadata": {},
   "outputs": [],
   "source": [
    "for key in flux_TSO_df_mp_save.keys():\n",
    "    plot(example_wanderer_median.flux_TSO_df[key])\n",
    "plot(flux_TSO_df_mp_save[key])\n",
    "print(sum(abs(example_wanderer_median.flux_TSO_df[key] - flux_TSO_df_mp_save[key])))"
   ]
  },
  {
   "cell_type": "raw",
   "metadata": {},
   "source": [
    "flux_TSO_df_save = example_wanderer_median.flux_TSO_df\n",
    "del example_wanderer_median.flux_TSO_df"
   ]
  },
  {
   "cell_type": "code",
   "execution_count": null,
   "metadata": {
    "scrolled": true
   },
   "outputs": [],
   "source": [
    "print('Saving `example_wanderer_median` to a set of pickles for various Image Cubes and the Storage Dictionary')\n",
    "\n",
    "savefiledir         = environ['HOME']+'/Research/Planets/'+planetName+'/SaveFiles/'\n",
    "saveFileNameHeader  = planetName+'_'+ AORNow +'_Median'\n",
    "saveFileType        = '.pickle.save'\n",
    "\n",
    "print(savefiledir)\n",
    "print(saveFileNameHeader)\n",
    "print(saveFileType)\n",
    "example_wanderer_median.save_data_to_save_files(savefiledir=savefiledir, \\\n",
    "                                                saveFileNameHeader=saveFileNameHeader, \\\n",
    "                                                saveFileType=saveFileType)"
   ]
  },
  {
   "cell_type": "code",
   "execution_count": null,
   "metadata": {},
   "outputs": [],
   "source": [
    "print('Entire Pipeline took {} seconds'.format(time() - startFull))"
   ]
  },
  {
   "cell_type": "markdown",
   "metadata": {},
   "source": [
    "# Analysis"
   ]
  },
  {
   "cell_type": "code",
   "execution_count": null,
   "metadata": {},
   "outputs": [],
   "source": [
    "print('Saving `example_wanderer_median` to a set of pickles for various Image Cubes and the Storage Dictionary')\n",
    "\n",
    "example_wanderer_median_dict = {}\n",
    "for AORNow in AORs:\n",
    "    savefiledir         = environ['HOME']+'/Research/Planets/'+planetName+'/SaveFiles/'\n",
    "    saveFileNameHeader  = planetName+'_'+ AORNow +'_Median'\n",
    "    saveFileType        = '.pickle.save'\n",
    "\n",
    "    print(savefiledir)\n",
    "    print(saveFileNameHeader)\n",
    "    print(saveFileType)\n",
    "\n",
    "    method = 'median'\n",
    "\n",
    "    print('Initialize an instance of `wanderer` as `example_wanderer_median`\\n')\n",
    "    example_wanderer_median_dict[AORNow] = wanderer(fitsFileDir=loadfitsdir, filetype=filetype, telescope='Spitzer',\n",
    "                                                yguess=yguess, xguess=xguess, method=method, nCores=cpu_count())\n",
    "\n",
    "    example_wanderer_median_dict[AORNow].load_data_from_save_files(savefiledir=savefiledir, \n",
    "                                                                  saveFileNameHeader=saveFileNameHeader, \n",
    "                                                                  saveFileType=saveFileType)"
   ]
  },
  {
   "cell_type": "code",
   "execution_count": null,
   "metadata": {},
   "outputs": [],
   "source": [
    "fig=figure(figsize=(20,10),dpi=100)\n",
    "ax = fig.add_subplot(111)\n",
    "for aorkey in list(example_wanderer_median_dict.keys())[::-1]:\n",
    "    ex_dict = example_wanderer_median_dict[aorkey]\n",
    "    ax.plot(ex_dict.timeCube, ex_dict.flux_TSO_df[key], '.', label=aorkey)\n",
    "\n",
    "ax.legend(loc=0, fontsize=20)\n",
    "ax.set_ylim(ymin, ymax)\n",
    "ax.set_xlim(xmin, xmaxqatar2)"
   ]
  },
  {
   "cell_type": "markdown",
   "metadata": {},
   "source": [
    "# Things to Work on"
   ]
  },
  {
   "cell_type": "raw",
   "metadata": {},
   "source": [
    "example_wanderer_mean.outlier_rejection()"
   ]
  },
  {
   "cell_type": "raw",
   "metadata": {},
   "source": [
    "example_wanderer_mean.generate_PLD_vectors()"
   ]
  },
  {
   "cell_type": "raw",
   "metadata": {},
   "source": [
    "example_wanderer_mean.maxLikelihood_pld_only()"
   ]
  }
 ],
 "metadata": {
  "anaconda-cloud": {},
  "kernelspec": {
   "display_name": "Python 3",
   "language": "python",
   "name": "python3"
  },
  "language_info": {
   "codemirror_mode": {
    "name": "ipython",
    "version": 3
   },
   "file_extension": ".py",
   "mimetype": "text/x-python",
   "name": "python",
   "nbconvert_exporter": "python",
   "pygments_lexer": "ipython3",
   "version": "3.6.3"
  }
 },
 "nbformat": 4,
 "nbformat_minor": 1
}
