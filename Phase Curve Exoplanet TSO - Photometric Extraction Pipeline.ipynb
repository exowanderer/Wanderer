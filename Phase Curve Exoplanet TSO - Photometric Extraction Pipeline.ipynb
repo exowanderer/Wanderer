{
 "cells": [
  {
   "cell_type": "code",
   "execution_count": 8,
   "metadata": {},
   "outputs": [
    {
     "name": "stdout",
     "output_type": "stream",
     "text": [
      "The autoreload extension is already loaded. To reload it, use:\n",
      "  %reload_ext autoreload\n"
     ]
    }
   ],
   "source": [
    "%reload_ext autoreload\n",
    "%load_ext autoreload\n",
    "%autoreload 2"
   ]
  },
  {
   "cell_type": "code",
   "execution_count": 9,
   "metadata": {},
   "outputs": [],
   "source": [
    "%matplotlib inline\n",
    "from astroML.plotting          import hist\n",
    "from astropy.io                import fits\n",
    "from astropy.modeling          import models, fitting\n",
    "from datetime                  import datetime\n",
    "from image_registration        import cross_correlation_shifts\n",
    "from glob                      import glob\n",
    "from functools                 import partial\n",
    "from matplotlib.ticker         import MaxNLocator\n",
    "from matplotlib                import style\n",
    "from os                        import listdir\n",
    "from least_asymmetry.asym      import actr, moments, fitgaussian\n",
    "from multiprocessing           import cpu_count, Pool\n",
    "from numpy                     import min as npmin, max as npmax, zeros, arange, sum, float, isnan, hstack\n",
    "from numpy                     import int32 as npint, round as npround, nansum as sum, nanstd as std\n",
    "from os                        import environ, path, mkdir\n",
    "from pandas                    import DataFrame, read_csv, read_pickle, scatter_matrix\n",
    "from photutils                 import CircularAperture, CircularAnnulus, aperture_photometry, findstars\n",
    "from pylab                     import ion, gcf, sort, linspace, indices, median, mean, std, empty, figure, transpose, ceil\n",
    "from pylab                     import concatenate, pi, sqrt, ones, diag, inf, rcParams, isnan, isfinite, array, nanmax\n",
    "from pylab                     import figure, plot, imshow, scatter, legend\n",
    "from seaborn                   import *\n",
    "from scipy.special             import erf\n",
    "from scipy                     import stats\n",
    "from sklearn.cluster           import DBSCAN\n",
    "from sklearn.externals         import joblib\n",
    "from sklearn.preprocessing     import StandardScaler\n",
    "from socket                    import gethostname\n",
    "from statsmodels.robust        import scale\n",
    "from statsmodels.nonparametric import kde\n",
    "from sys                       import exit\n",
    "from time                      import time, localtime\n",
    "from tqdm                      import tqdm_notebook\n",
    "\n",
    "from numpy                     import zeros, nanmedian as median, nanmean as mean, nan\n",
    "from sys                       import exit\n",
    "from sklearn.externals         import joblib\n",
    "\n",
    "import numpy as np"
   ]
  },
  {
   "cell_type": "code",
   "execution_count": 10,
   "metadata": {},
   "outputs": [],
   "source": [
    "startFull = time()"
   ]
  },
  {
   "cell_type": "markdown",
   "metadata": {},
   "source": [
    "**Master Class for Exoplanet Time Series Observation Photometry**"
   ]
  },
  {
   "cell_type": "code",
   "execution_count": 11,
   "metadata": {},
   "outputs": [],
   "source": [
    "from ExoplanetTSO_Auxiliary import wanderer"
   ]
  },
  {
   "cell_type": "code",
   "execution_count": 12,
   "metadata": {},
   "outputs": [],
   "source": [
    "def clipOutlier2D(arr2D, nSig=10):\n",
    "    arr2D     = arr2D.copy()\n",
    "    medArr2D  = median(arr2D,axis=0)\n",
    "    sclArr2D  = np.sqrt(((scale.mad(arr2D)**2.).sum()))\n",
    "    outliers  = abs(arr2D - medArr2D) >  nSig*sclArr2D\n",
    "    inliers   = abs(arr2D - medArr2D) <= nSig*sclArr2D\n",
    "    arr2D[outliers] = median(arr2D[inliers],axis=0)\n",
    "    return arr2D"
   ]
  },
  {
   "cell_type": "code",
   "execution_count": 13,
   "metadata": {},
   "outputs": [],
   "source": [
    "rcParams['figure.dpi'] = 150\n",
    "rcParams['image.interpolation'] = 'None'\n",
    "rcParams['image.cmap']          = 'Blues_r'\n",
    "rcParams['axes.grid']           = False"
   ]
  },
  {
   "cell_type": "markdown",
   "metadata": {},
   "source": [
    "As an example, Spitzer data is expected to be store in the directory structure:\n",
    "\n",
    "`$HOME/PLANET_DIRECTORY/PLANETNAME/data/raw/AORDIR/CHANNEL/bcd/`\n",
    "\n",
    "EXAMPLE:\n",
    "\n",
    "1. On a Linux machine\n",
    "2. With user `tempuser`,\n",
    "3. And all Spitzer data is store in `Research/Planets`\n",
    "4. The planet named `Happy-5b`\n",
    "5. Observed during AOR r11235813\n",
    "6. In CH2 (4.5 microns)\n",
    "\n",
    "The `loadfitsdir` should read as: `/home/tempuser/Research/Planets/HAPPY5/data/raw/r11235813/ch2/bcd/`"
   ]
  },
  {
   "cell_type": "code",
   "execution_count": 21,
   "metadata": {},
   "outputs": [],
   "source": [
    "from os import environ\n",
    "\n",
    "planetName      = 'planetName'\n",
    "planetDirectory = '/Research/Planets/PhaseCurves/'\n",
    "\n",
    "channel = 'ch2/'\n",
    "# channel = 'ch2/'\n",
    "\n",
    "dataSub = 'bcd/'\n",
    "\n",
    "dataDir     = environ['HOME'] + planetDirectory + planetName + '/data/raw/' + channel + '/big/'\n",
    "\n",
    "AORs = []\n",
    "for dirNow in glob(dataDir + '/*'):\n",
    "    AORs.append(dirNow.split('/')[-1])\n",
    "\n",
    "fileExt = '*bcd.fits'\n",
    "uncsExt = '*bunc.fits'"
   ]
  },
  {
   "cell_type": "code",
   "execution_count": 22,
   "metadata": {},
   "outputs": [
    {
     "data": {
      "text/plain": [
       "2"
      ]
     },
     "execution_count": 22,
     "metadata": {},
     "output_type": "execute_result"
    }
   ],
   "source": [
    "len(AORs)"
   ]
  },
  {
   "cell_type": "code",
   "execution_count": null,
   "metadata": {},
   "outputs": [],
   "source": [
    "iAOR        = 0\n",
    "AORNow      = AORs[iAOR]\n",
    "loadfitsdir = dataDir + AORNow + '/' + channel + dataSub\n",
    "print(loadfitsdir)"
   ]
  },
  {
   "cell_type": "code",
   "execution_count": 24,
   "metadata": {},
   "outputs": [],
   "source": [
    "nCores = cpu_count()"
   ]
  },
  {
   "cell_type": "code",
   "execution_count": 25,
   "metadata": {
    "scrolled": false
   },
   "outputs": [],
   "source": [
    "fitsFilenames = glob(loadfitsdir + fileExt)\n",
    "uncsFilenames = glob(loadfitsdir + uncsExt)"
   ]
  },
  {
   "cell_type": "code",
   "execution_count": null,
   "metadata": {},
   "outputs": [],
   "source": [
    "header_test = fits.getheader(fitsFilenames[0])\n",
    "print('AORLABEL:\\t{}\\nNum Fits Files:\\t{}\\nNum Unc Files:\\t{}'.format\\\n",
    "          (header_test['AORLABEL'], len(fitsFilenames), len(uncsFilenames)))"
   ]
  },
  {
   "cell_type": "code",
   "execution_count": null,
   "metadata": {},
   "outputs": [],
   "source": [
    "fitsFilenames"
   ]
  },
  {
   "cell_type": "code",
   "execution_count": null,
   "metadata": {},
   "outputs": [],
   "source": [
    "uncsFilenames"
   ]
  },
  {
   "cell_type": "markdown",
   "metadata": {},
   "source": [
    "# Load ExoplanetTSO Class"
   ]
  },
  {
   "cell_type": "markdown",
   "metadata": {},
   "source": [
    "Necessary Constants Spitzer\n",
    "---"
   ]
  },
  {
   "cell_type": "code",
   "execution_count": 29,
   "metadata": {},
   "outputs": [],
   "source": [
    "ppm             = 1e6\n",
    "y,x             = 0,1\n",
    "\n",
    "yguess, xguess  = 15., 15.   # Specific to Spitzer circa 2010 and beyond\n",
    "filetype        = 'bcd.fits' # Specific to Spitzer Basic Calibrated Data"
   ]
  },
  {
   "cell_type": "markdown",
   "metadata": {},
   "source": [
    "Load Stored Instance from Save Files\n",
    "---"
   ]
  },
  {
   "cell_type": "markdown",
   "metadata": {},
   "source": [
    "If this is **not** your time, then you can load a saved file in the `loadfitsdir` directory that has the filename:\n",
    "\n",
    "`PLANETNAME_Wanderer_METHOD_DATE.pickle.save` "
   ]
  },
  {
   "cell_type": "markdown",
   "metadata": {},
   "source": [
    "```python\n",
    "method = 'mean'\n",
    "example_wanderer_mean = wanderer(loadfitsdir=loadfitsdir, filetype=filetype, \n",
    "                                            yguess=yguess, xguess=xguess, method=method)\n",
    "\n",
    "example_wanderer_mean.load_data_from_save_files(savefiledir='./SaveFiles/', \n",
    "                        saveFileNameHeader=planetName+'_Wanderer_Mean_', saveFileType='.pickle.save')\n",
    "```"
   ]
  },
  {
   "cell_type": "markdown",
   "metadata": {
    "collapsed": true
   },
   "source": [
    "```python\n",
    "method = 'median'\n",
    "example_wanderer_median = wanderer(loadfitsdir=loadfitsdir_ModA, filetype=filetype, \n",
    "                                            yguess=yguess, xguess=xguess, method=method)\n",
    "\n",
    "example_wanderer_median.load_data_from_save_files(savefiledir='./SaveFiles/', saveFileNameHeader='Example_Wanderer_Median_', saveFileType='.pickle.save')\n",
    "```"
   ]
  },
  {
   "cell_type": "markdown",
   "metadata": {},
   "source": [
    "Start a New Instance with Median for the Metric\n",
    "---"
   ]
  },
  {
   "cell_type": "code",
   "execution_count": 30,
   "metadata": {},
   "outputs": [
    {
     "name": "stdout",
     "output_type": "stream",
     "text": [
      "Initialize an instance of `wanderer` as `example_wanderer_median`\n",
      "\n",
      "\n",
      "\n",
      "** Not all who wander are lost **\n",
      "\n",
      "\n",
      "Completed Class Definition at 2018-1-8 23h22m47s\n"
     ]
    }
   ],
   "source": [
    "method = 'median'\n",
    "\n",
    "print('Initialize an instance of `wanderer` as `example_wanderer_median`\\n')\n",
    "example_wanderer_median = wanderer(fitsFileDir=loadfitsdir, filetype=filetype, telescope='Spitzer', \n",
    "                                            yguess=yguess, xguess=xguess, method=method, nCores=nCores)\n",
    "\n",
    "example_wanderer_median.AOR        = AORNow\n",
    "example_wanderer_median.planetName = planetName\n",
    "example_wanderer_median.channel    = channel"
   ]
  },
  {
   "cell_type": "code",
   "execution_count": null,
   "metadata": {},
   "outputs": [],
   "source": [
    "print('Load Data From Fits Files in ' + loadfitsdir + '\\n')\n",
    "# exarymple_wanderer_median.load_data_from_fits_files()\n",
    "example_wanderer_median.spitzer_load_fits_file(outputUnits='electrons')#(outputUnits='muJ_per_Pixel')"
   ]
  },
  {
   "cell_type": "code",
   "execution_count": null,
   "metadata": {},
   "outputs": [],
   "source": [
    "print('Skipping Load Data From Save Files in ' + loadfitsdir + '\\n')\n",
    "# example_wanderer_median.load_data_from_save_files(savefiledir='./SaveFiles/', \\\n",
    "# saveFileNameHeader='Example_Wanderer_Median_', saveFileType='.pickle.save')"
   ]
  },
  {
   "cell_type": "markdown",
   "metadata": {},
   "source": [
    "**Double check for NaNs**"
   ]
  },
  {
   "cell_type": "code",
   "execution_count": 33,
   "metadata": {},
   "outputs": [],
   "source": [
    "example_wanderer_median.imageCube[np.where(isnan(example_wanderer_median.imageCube))] = \\\n",
    "                                                    np.nanmedian(example_wanderer_median.imageCube)"
   ]
  },
  {
   "cell_type": "markdown",
   "metadata": {},
   "source": [
    "**Identifier Strong Outliers**"
   ]
  },
  {
   "cell_type": "code",
   "execution_count": 34,
   "metadata": {},
   "outputs": [
    {
     "name": "stdout",
     "output_type": "stream",
     "text": [
      "Find, flag, and NaN the \"Bad Pixels\" Outliers\n",
      "\n",
      "There are 28993 'Hot' Pixels\n"
     ]
    }
   ],
   "source": [
    "print('Find, flag, and NaN the \"Bad Pixels\" Outliers' + '\\n')\n",
    "example_wanderer_median.find_bad_pixels()"
   ]
  },
  {
   "cell_type": "code",
   "execution_count": 35,
   "metadata": {},
   "outputs": [
    {
     "name": "stdout",
     "output_type": "stream",
     "text": [
      "Fit for All Centers: Flux Weighted, Gaussian Fitting, Gaussian Moments, Least Asymmetry\n",
      "\n",
      "(28864, 32, 32)\n"
     ]
    },
    {
     "data": {
      "application/vnd.jupyter.widget-view+json": {
       "model_id": "abfef8cb7127447eb3ea486c9d87dbe1",
       "version_major": 2,
       "version_minor": 0
      },
      "text/html": [
       "<p>Failed to display Jupyter Widget of type <code>HBox</code>.</p>\n",
       "<p>\n",
       "  If you're reading this message in the Jupyter Notebook or JupyterLab Notebook, it may mean\n",
       "  that the widgets JavaScript is still loading. If this message persists, it\n",
       "  likely means that the widgets JavaScript library is either not installed or\n",
       "  not enabled. See the <a href=\"https://ipywidgets.readthedocs.io/en/stable/user_install.html\">Jupyter\n",
       "  Widgets Documentation</a> for setup instructions.\n",
       "</p>\n",
       "<p>\n",
       "  If you're reading this message in another frontend (for example, a static\n",
       "  rendering on GitHub or <a href=\"https://nbviewer.jupyter.org/\">NBViewer</a>),\n",
       "  it may mean that your frontend doesn't currently support widgets.\n",
       "</p>\n"
      ],
      "text/plain": [
       "HBox(children=(IntProgress(value=0, description='FWC', max=28864), HTML(value='')))"
      ]
     },
     "metadata": {},
     "output_type": "display_data"
    },
    {
     "name": "stdout",
     "output_type": "stream",
     "text": [
      "\r"
     ]
    }
   ],
   "source": [
    "print('Fit for All Centers: Flux Weighted, Gaussian Fitting, Gaussian Moments, Least Asymmetry' + '\\n')\n",
    "# example_wanderer_median.fit_gaussian_centering()\n",
    "example_wanderer_median.fit_flux_weighted_centering()\n",
    "# example_wanderer_median.fit_least_asymmetry_centering()\n",
    "# example_wanderer_median.fit_all_centering() # calling this calls least_asymmetry, which does not work :("
   ]
  },
  {
   "cell_type": "code",
   "execution_count": 121,
   "metadata": {
    "scrolled": false
   },
   "outputs": [
    {
     "name": "stdout",
     "output_type": "stream",
     "text": [
      "Finished with Fitting Centers. Now assigning to instance values.\n",
      "Operation took 91.81974458694458 seconds with 8 cores\n"
     ]
    }
   ],
   "source": [
    "# start = time()\n",
    "# example_wanderer_median.mp_fit_gaussian_centering(subArray=6)\n",
    "# print('Operation took {} seconds with {} cores'.format(time()-start, example_wanderer_median.nCores))\n",
    "\n",
    "# centering_df_copy = example_wanderer_median.centering_df\n",
    "# example_wanderer_median.centering_df = {}\n",
    "\n",
    "start = time()\n",
    "example_wanderer_median.mp_lmfit_gaussian_centering(subArraySize=6, recheckMethod=None, median_crop=False)\n",
    "print('Operation took {} seconds with {} cores'.format(time()-start, example_wanderer_median.nCores))"
   ]
  },
  {
   "cell_type": "code",
   "execution_count": 122,
   "metadata": {},
   "outputs": [],
   "source": [
    "nSig       = 6.1\n",
    "medY       = median(example_wanderer_median.centering_GaussianFit.T[y])\n",
    "medX       = median(example_wanderer_median.centering_GaussianFit.T[x])\n",
    "stdY       = std(example_wanderer_median.centering_GaussianFit.T[y])\n",
    "stdX       = std(example_wanderer_median.centering_GaussianFit.T[x])\n",
    "\n",
    "outliers   = (((example_wanderer_median.centering_GaussianFit.T[y] - medY)/stdY)**2 + \\\n",
    "              ((example_wanderer_median.centering_GaussianFit.T[x] - medX)/stdX)**2) > nSig"
   ]
  },
  {
   "cell_type": "code",
   "execution_count": 129,
   "metadata": {},
   "outputs": [
    {
     "data": {
      "text/plain": [
       "(14.230282327475026, 14.995562415635256)"
      ]
     },
     "execution_count": 129,
     "metadata": {},
     "output_type": "execute_result"
    }
   ],
   "source": [
    "median(cx), median(cy)"
   ]
  },
  {
   "cell_type": "code",
   "execution_count": 134,
   "metadata": {},
   "outputs": [
    {
     "data": {
      "text/plain": [
       "(14.75, 15.25)"
      ]
     },
     "execution_count": 134,
     "metadata": {},
     "output_type": "execute_result"
    },
    {
     "data": {
      "image/png": "[encoded data removed]",
      "text/plain": [
       "<matplotlib.figure.Figure at 0x1496b7400>"
      ]
     },
     "metadata": {},
     "output_type": "display_data"
    }
   ],
   "source": [
    "ax = figure().add_subplot(111)\n",
    "cx, cy = example_wanderer_median.centering_GaussianFit.T[x],example_wanderer_median.centering_GaussianFit.T[y]\n",
    "ax.plot(cx,cy,'.',ms=1)\n",
    "ax.plot(cx[outliers],cy[outliers],'.',ms=1)\n",
    "# ax.plot(median(cx), median(cy),'ro',ms=1)\n",
    "ax.set_xlim(14,14.5)\n",
    "ax.set_ylim(14.75,15.25)"
   ]
  },
  {
   "cell_type": "code",
   "execution_count": null,
   "metadata": {},
   "outputs": [],
   "source": [
    "from sklearn.cluster import DBSCAN\n",
    "\n",
    "dbs     = DBSCAN(n_jobs=-1, eps=0.2, leaf_size=10)\n",
    "dbsPred = dbs.fit_predict(example_wanderer_median.centering_GaussianFit)"
   ]
  },
  {
   "cell_type": "code",
   "execution_count": null,
   "metadata": {},
   "outputs": [],
   "source": [
    "dbs_options = [k for k in range(-1,100) if (dbsPred==k).sum()]"
   ]
  },
  {
   "cell_type": "code",
   "execution_count": null,
   "metadata": {},
   "outputs": [],
   "source": [
    "dbs_options"
   ]
  },
  {
   "cell_type": "code",
   "execution_count": null,
   "metadata": {},
   "outputs": [],
   "source": [
    "fig = figure(figsize=(6,6))\n",
    "ax  = fig.add_subplot(111)\n",
    "\n",
    "medGaussCenters   = median(example_wanderer_median.centering_GaussianFit,axis=0)\n",
    "sclGaussCenters   = scale.mad(example_wanderer_median.centering_GaussianFit)\n",
    "sclGaussCenterAvg = np.sqrt(((sclGaussCenters**2.).sum()))\n",
    "\n",
    "yctrs = example_wanderer_median.centering_GaussianFit.T[y]\n",
    "xctrs = example_wanderer_median.centering_GaussianFit.T[x]\n",
    "\n",
    "nSigmas         = 5\n",
    "for nSig in linspace(1,10,10):\n",
    "    CircularAperture(medGaussCenters[::-1],nSig*sclGaussCenterAvg).plot(ax=ax)\n",
    "    for dbsOpt in dbs_options:\n",
    "        ax.plot(xctrs[dbsPred==dbsOpt], yctrs[dbsPred==dbsOpt],'.',zorder=0)"
   ]
  },
  {
   "cell_type": "code",
   "execution_count": null,
   "metadata": {
    "scrolled": true
   },
   "outputs": [],
   "source": [
    "npix = 3\n",
    "\n",
    "stillOutliers = np.where(abs(example_wanderer_median.centering_GaussianFit - medGaussCenters) > 4*sclGaussCenterAvg)[0]\n",
    "print(len(stillOutliers))\n",
    "# for o in stillOutliers:\n",
    "#     figure()\n",
    "#     imshow(example_wanderer_median.imageCube[o][16-npix:16+npix+1,16-npix:16+npix+1])"
   ]
  },
  {
   "cell_type": "code",
   "execution_count": null,
   "metadata": {},
   "outputs": [],
   "source": [
    "dbsClean  = 0\n",
    "dbsKeep   = (dbsPred == dbsClean)"
   ]
  },
  {
   "cell_type": "markdown",
   "metadata": {},
   "source": [
    "**TEST**\n",
    "\n",
    "Try column-wise background subtraction (and row-wise) to model the read pattern"
   ]
  },
  {
   "cell_type": "code",
   "execution_count": null,
   "metadata": {},
   "outputs": [],
   "source": [
    "nCores = example_wanderer_median.nCores\n",
    "start = time()\n",
    "example_wanderer_median.mp_measure_background_circle_masked()\n",
    "print('CircleBG took {} seconds with {} cores'.format(time() - start, nCores))\n",
    "start = time()\n",
    "example_wanderer_median.mp_measure_background_annular_mask()\n",
    "print('AnnularBG took {} seconds with {} cores'.format(time() - start, nCores))\n",
    "start = time()\n",
    "example_wanderer_median.mp_measure_background_KDE_Mode()\n",
    "print('KDEUnivBG took {} seconds with {} cores'.format(time() - start, nCores))\n",
    "start = time()\n",
    "example_wanderer_median.mp_measure_background_median_masked()\n",
    "print('MedianBG took {} seconds with {} cores'.format(time() - start, nCores))"
   ]
  },
  {
   "cell_type": "code",
   "execution_count": null,
   "metadata": {},
   "outputs": [],
   "source": [
    "((example_wanderer_median.timeCube.min()-.01+0.02) - example_wanderer_median.timeCube.min())*24*60"
   ]
  },
  {
   "cell_type": "code",
   "execution_count": null,
   "metadata": {
    "scrolled": false
   },
   "outputs": [],
   "source": [
    "fig = figure(figsize=(20,10))\n",
    "ax  = fig.add_subplot(111)\n",
    "ax.plot(example_wanderer_median.timeCube, example_wanderer_median.background_CircleMask,'.',alpha=0.2)\n",
    "ax.plot(example_wanderer_median.timeCube, example_wanderer_median.background_Annulus,'.',alpha=0.2)\n",
    "ax.plot(example_wanderer_median.timeCube, example_wanderer_median.background_MedianMask,'.',alpha=0.2)\n",
    "ax.plot(example_wanderer_median.timeCube, example_wanderer_median.background_KDEUniv,'.',alpha=0.2)\n",
    "ax.axvline(example_wanderer_median.timeCube.min()-.01+0.02)\n",
    "ax.set_ylim(-25,100)\n",
    "# ax.set_xlim(example_wanderer_median.timeCube.min()-.01,example_wanderer_median.timeCube.min() + .05)"
   ]
  },
  {
   "cell_type": "code",
   "execution_count": null,
   "metadata": {},
   "outputs": [],
   "source": [
    "example_wanderer_median.measure_effective_width()"
   ]
  },
  {
   "cell_type": "code",
   "execution_count": null,
   "metadata": {},
   "outputs": [],
   "source": [
    "vrad_dist = example_wanderer_median.quadrature_widths - np.median(example_wanderer_median.quadrature_widths)\n",
    "vrad_dist = clipOutlier2D(vrad_dist, nSig=5)\n",
    "ax = figure().add_subplot(111)\n",
    "ax.hist(vrad_dist, bins=example_wanderer_median.nFrames//100);\n",
    "ax.hist(0.75*vrad_dist, bins=example_wanderer_median.nFrames//100);\n",
    "ax.hist(0.5*vrad_dist, bins=example_wanderer_median.nFrames//100);\n",
    "ax.hist(0.25*vrad_dist, bins=example_wanderer_median.nFrames//100);\n",
    "# ax.set_xlim(-.25,.25);"
   ]
  },
  {
   "cell_type": "code",
   "execution_count": null,
   "metadata": {},
   "outputs": [],
   "source": [
    "print('Pipeline took {} seconds thus far'.format(time() - startFull))"
   ]
  },
  {
   "cell_type": "code",
   "execution_count": null,
   "metadata": {
    "scrolled": false
   },
   "outputs": [],
   "source": [
    "print('Iterating over Background Techniques, Centering Techniques, Aperture Radii' + '\\n')\n",
    "centering_choices  = ['Gaussian_Fit']#, 'Gaussian_Mom', 'FluxWeighted']#, 'LeastAsymmetry']\n",
    "background_choices = ['AnnularMask']#example_wanderer_median.background_df.columns\n",
    "staticRads         = np.arange(1, 6,0.5)#[1.0 ]# aperRads = np.arange(1, 6,0.5)\n",
    "varRads            = [0.0, 0.25, 0.50, 0.75, 1.0, 1.25, 1.50]#[None]# \n",
    "\n",
    "vrad_dist = example_wanderer_median.quadrature_widths - np.median(example_wanderer_median.quadrature_widths)\n",
    "vrad_dist = clipOutlier2D(vrad_dist, nSig=5)\n",
    "\n",
    "for staticRad in tqdm_notebook(staticRads, total=len(staticRads), desc='Static'):\n",
    "    for varRad in tqdm_notebook(varRads, total=len(varRads), desc='Variable'):\n",
    "        startMPFlux = time()\n",
    "        example_wanderer_median.mp_compute_flux_over_time_varRad(staticRad, varRad, centering_choices[0], \\\n",
    "                                                          background_choices[0], useTheForce=True)\n",
    "        \n",
    "        # print('Flux Measurements took {} seconds for sRad {} and vRad {}'.format(time()-startMPFlux,staticRad,varRad))"
   ]
  },
  {
   "cell_type": "code",
   "execution_count": null,
   "metadata": {},
   "outputs": [],
   "source": [
    "print('Entire Pipeline took {} seconds'.format(time() - startFull))"
   ]
  },
  {
   "cell_type": "code",
   "execution_count": null,
   "metadata": {},
   "outputs": [],
   "source": [
    "example_wanderer_median.mp_DBScan_Flux_All()"
   ]
  },
  {
   "cell_type": "code",
   "execution_count": null,
   "metadata": {},
   "outputs": [],
   "source": [
    "inlier_master = array(list(example_wanderer_median.inliers_Phots.values())).mean(axis=0) == 1.0"
   ]
  },
  {
   "cell_type": "code",
   "execution_count": null,
   "metadata": {},
   "outputs": [],
   "source": [
    "((~inlier_master).sum() / inlier_master.size)*100"
   ]
  },
  {
   "cell_type": "code",
   "execution_count": null,
   "metadata": {},
   "outputs": [],
   "source": [
    "example_wanderer_median.extract_PLD_components()"
   ]
  },
  {
   "cell_type": "code",
   "execution_count": null,
   "metadata": {},
   "outputs": [],
   "source": [
    "example_wanderer_median.mp_DBScan_PLD_All()"
   ]
  },
  {
   "cell_type": "code",
   "execution_count": null,
   "metadata": {},
   "outputs": [],
   "source": [
    "plot(example_wanderer_median.inliers_PLD.T);"
   ]
  },
  {
   "cell_type": "code",
   "execution_count": null,
   "metadata": {
    "scrolled": false
   },
   "outputs": [],
   "source": [
    "print('Saving `example_wanderer_median` to a set of pickles for various Image Cubes and the Storage Dictionary')\n",
    "\n",
    "savefiledir         = environ['HOME']+'/Research/Planets/PhaseCurves/'+planetName+'/SaveFiles/' + channel \n",
    "saveFileNameHeader  = planetName+'_'+ AORNow +'_Median'\n",
    "saveFileType        = '.pickle.save'\n",
    "\n",
    "if not path.exists(environ['HOME']+'/Research/Planets/PhaseCurves/'+planetName+'/SaveFiles/'):\n",
    "    mkdir(environ['HOME']+'/Research/Planets/PhaseCurves/'+planetName+'/SaveFiles/')\n",
    "\n",
    "if not path.exists(savefiledir):\n",
    "    print('Creating ' + savefiledir)\n",
    "    mkdir(savefiledir)\n",
    "\n",
    "print()\n",
    "print('Saving to ' + savefiledir + saveFileNameHeader + saveFileType)\n",
    "print()\n",
    "\n",
    "example_wanderer_median.save_data_to_save_files(savefiledir=savefiledir, \\\n",
    "                                                saveFileNameHeader=saveFileNameHeader, \\\n",
    "                                                saveFileType=saveFileType)"
   ]
  },
  {
   "cell_type": "code",
   "execution_count": null,
   "metadata": {},
   "outputs": [],
   "source": [
    "quad_width= example_wanderer_median.quadrature_widths.values\n",
    "vrad_dist = quad_width - np.median(quad_width)\n",
    "vrad_dist = clipOutlier2D(vrad_dist, nSig=5)\n",
    "vrad_dist_med = np.median(vrad_dist)\n",
    "\n",
    "ax = figure().add_subplot(111)\n",
    "for key in example_wanderer_median.flux_TSO_df.keys():\n",
    "    staticRad = float(key.split('_')[-2])\n",
    "    varRad    = float(key.split('_')[-1])\n",
    "    aperRad   = staticRad + varRad*vrad_dist_med\n",
    "    colorNow  = rcParams['axes.color_cycle'][int(varRad*4)]\n",
    "    # if aperRad > 1.5 and aperRad < 3.5:\n",
    "    ax.scatter(aperRad, scale.mad(np.diff(example_wanderer_median.flux_TSO_df[key])), \\\n",
    "                   color=colorNow, zorder=int(varRad*4))\n",
    "\n",
    "for varRad in [0.,0.25, 0.5, 0.75, 1.0, 1.25, 1.5]:\n",
    "    colorNow  = rcParams['axes.color_cycle'][int(varRad*4)]\n",
    "    ax.scatter([],[], color=colorNow, label=varRad)\n",
    "\n",
    "ax.set_xlabel('StaticRad + Average(varRad)')\n",
    "ax.set_ylabel('MAD( Diff ( Flux ) )')\n",
    "ax.legend(loc=0)\n",
    "# ax.set_ylim(292.5,294)\n",
    "# ax.set_xlim(2.9, 3.1)"
   ]
  },
  {
   "cell_type": "code",
   "execution_count": null,
   "metadata": {},
   "outputs": [],
   "source": [
    "print('Entire Pipeline took {} seconds'.format(time() - startFull))"
   ]
  }
 ],
 "metadata": {
  "anaconda-cloud": {},
  "kernelspec": {
   "display_name": "Python 3",
   "language": "python",
   "name": "python3"
  },
  "language_info": {
   "codemirror_mode": {
    "name": "ipython",
    "version": 3
   },
   "file_extension": ".py",
   "mimetype": "text/x-python",
   "name": "python",
   "nbconvert_exporter": "python",
   "pygments_lexer": "ipython3",
   "version": "3.6.3"
  }
 },
 "nbformat": 4,
 "nbformat_minor": 1
}
