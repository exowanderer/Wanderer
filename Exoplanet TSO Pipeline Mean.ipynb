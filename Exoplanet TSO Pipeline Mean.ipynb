{
 "cells": [
  {
   "cell_type": "code",
   "execution_count": null,
   "metadata": {},
   "outputs": [],
   "source": [
    "%load_ext autoreload\n",
    "%autoreload 2"
   ]
  },
  {
   "cell_type": "code",
   "execution_count": null,
   "metadata": {},
   "outputs": [],
   "source": [
    "%matplotlib inline\n",
    "\n",
    "from astroML.plotting          import hist\n",
    "from astropy.io                import fits\n",
    "from astropy.modeling          import models, fitting\n",
    "from datetime                  import datetime\n",
    "from image_registration        import cross_correlation_shifts\n",
    "from glob                      import glob\n",
    "from matplotlib.ticker         import MaxNLocator\n",
    "from matplotlib                import style\n",
    "from os                        import listdir\n",
    "from least_asymmetry.asym      import actr, moments, fitgaussian\n",
    "from multiprocessing           import cpu_count, Pool\n",
    "from numpy                     import min as npmin, max as npmax, zeros, arange, sum, float, isnan, hstack\n",
    "from numpy                     import int32 as npint, round as npround, nansum as sum, nanstd as std\n",
    "from os                        import environ\n",
    "from pandas                    import DataFrame, read_csv, read_pickle, scatter_matrix\n",
    "from photutils                 import CircularAperture, CircularAnnulus, aperture_photometry, findstars\n",
    "from pylab                     import ion, gcf, sort, linspace, indices, median, mean, std, empty, figure, transpose, ceil\n",
    "from pylab                     import concatenate, pi, sqrt, ones, diag, inf, rcParams, isnan, isfinite, array, nanmax\n",
    "from seaborn                   import *\n",
    "from scipy.special             import erf\n",
    "from scipy                     import stats\n",
    "from sklearn.externals         import joblib\n",
    "from socket                    import gethostname\n",
    "from statsmodels.robust        import scale\n",
    "from statsmodels.nonparametric import kde\n",
    "from sys                       import exit\n",
    "from time                      import time, localtime\n",
    "\n",
    "from numpy                     import zeros, nanmedian as median, nanmean as mean, nan\n",
    "from sys                       import exit\n",
    "from sklearn.externals         import joblib\n",
    "\n",
    "import numpy as np"
   ]
  },
  {
   "cell_type": "markdown",
   "metadata": {},
   "source": [
    "**Master Class for Exoplanet Time Series Observation Photometry**"
   ]
  },
  {
   "cell_type": "code",
   "execution_count": null,
   "metadata": {},
   "outputs": [],
   "source": [
    "from ExoplanetTSO_Auxiliary import wanderer"
   ]
  },
  {
   "cell_type": "code",
   "execution_count": null,
   "metadata": {},
   "outputs": [],
   "source": [
    "rcParams['image.interpolation'] = 'None'\n",
    "rcParams['image.cmap']          = 'Blues_r'\n",
    "rcParams['axes.grid']           = False"
   ]
  },
  {
   "cell_type": "markdown",
   "metadata": {},
   "source": [
    "As an example, Spitzer data is expected to be store in the directory structure:\n",
    "\n",
    "`$HOME/PLANET_DIRECTORY/PLANETNAME/data/raw/AORDIR/CHANNEL/bcd/`\n",
    "\n",
    "EXAMPLE:\n",
    "\n",
    "1. On a Linux machine\n",
    "2. With user `tempuser`,\n",
    "3. And all Spitzer data is store in `Research/Planets`\n",
    "4. The planet named `Happy-5b`\n",
    "5. Observed during AOR r11235813\n",
    "6. In CH2 (4.5 microns)\n",
    "\n",
    "The `loadfitsdir` should read as: `/home/tempuser/Research/Planets/HAPPY5/data/raw/r11235813/ch2/bcd/`"
   ]
  },
  {
   "cell_type": "code",
   "execution_count": null,
   "metadata": {},
   "outputs": [],
   "source": [
    "planetName      = 'example'\n",
    "planetDirectory = '/Research/Planets/'\n",
    "\n",
    "dataDir     = environ['HOME'] + planetDirectory + planetName + '/data/raw/'\n",
    "\n",
    "# This is only a list as an example because it the following code can be used to combine multiple AORs\n",
    "AORs    = ['r12345678', 'r1123580']\n",
    "\n",
    "channel = 'ch2/'\n",
    "\n",
    "dataSub = 'bcd/'\n",
    "\n",
    "fileExt = '*bcd.fits'\n",
    "uncsExt = '*bunc.fits'"
   ]
  },
  {
   "cell_type": "code",
   "execution_count": null,
   "metadata": {},
   "outputs": [],
   "source": [
    "iAOR        = INTEGER\n",
    "AORNow      = AORs[iAOR]\n",
    "\n",
    "loadfitsdir = dataDir + AORNow + '/' + channel + dataSub\n",
    "print(loadfitsdir)"
   ]
  },
  {
   "cell_type": "code",
   "execution_count": null,
   "metadata": {
    "scrolled": false
   },
   "outputs": [],
   "source": [
    "fitsFilenames = glob(loadfitsdir + fileExt)\n",
    "uncsFilenames = glob(loadfitsdir + uncsExt)"
   ]
  },
  {
   "cell_type": "code",
   "execution_count": null,
   "metadata": {},
   "outputs": [],
   "source": [
    "len(fitsFilenames), len(uncsFilenames)"
   ]
  },
  {
   "cell_type": "code",
   "execution_count": null,
   "metadata": {},
   "outputs": [],
   "source": [
    "fitsFilenames"
   ]
  },
  {
   "cell_type": "code",
   "execution_count": null,
   "metadata": {},
   "outputs": [],
   "source": [
    "uncsFilenames"
   ]
  },
  {
   "cell_type": "markdown",
   "metadata": {},
   "source": [
    "# Load ExoplanetTSO Class"
   ]
  },
  {
   "cell_type": "markdown",
   "metadata": {},
   "source": [
    "Necessary Constants Spitzer\n",
    "---"
   ]
  },
  {
   "cell_type": "code",
   "execution_count": null,
   "metadata": {},
   "outputs": [],
   "source": [
    "ppm             = 1e6\n",
    "y,x             = 0,1\n",
    "\n",
    "yguess, xguess  = 15., 15.   # Specific to Spitzer circa 2010 and beyond\n",
    "filetype        = 'bcd.fits' # Specific to Spitzer Basic Calibrated Data"
   ]
  },
  {
   "cell_type": "markdown",
   "metadata": {},
   "source": [
    "Load Stored Instance from Save Files\n",
    "---"
   ]
  },
  {
   "cell_type": "markdown",
   "metadata": {},
   "source": [
    "If this is **not** your time, then you can load a saved file in the `loadfitsdir` directory that has the filename:\n",
    "\n",
    "`PLANETNAME_Wanderer_METHOD_DATE.pickle.save` "
   ]
  },
  {
   "cell_type": "markdown",
   "metadata": {},
   "source": [
    "```python\n",
    "method = 'mean'\n",
    "example_wanderer_mean = wanderer(loadfitsdir=loadfitsdir, filetype=filetype, \n",
    "                                            yguess=yguess, xguess=xguess, method=method)\n",
    "\n",
    "example_wanderer_mean.load_data_from_save_files(savefiledir='./SaveFiles/', \n",
    "                        saveFileNameHeader=planetName+'_Wanderer_Mean_', saveFileType='.pickle.save')\n",
    "```"
   ]
  },
  {
   "cell_type": "markdown",
   "metadata": {
    "collapsed": true
   },
   "source": [
    "```python\n",
    "method = 'median'\n",
    "example_wanderer_median = wanderer(loadfitsdir=loadfitsdir_ModA, filetype=filetype, \n",
    "                                            yguess=yguess, xguess=xguess, method=method)\n",
    "\n",
    "example_wanderer_median.load_data_from_save_files(savefiledir='./SaveFiles/', saveFileNameHeader='Example_Wanderer_Median_', saveFileType='.pickle.save')\n",
    "```"
   ]
  },
  {
   "cell_type": "markdown",
   "metadata": {},
   "source": [
    "Start a New Instance with Mean for the Metric\n",
    "---"
   ]
  },
  {
   "cell_type": "code",
   "execution_count": null,
   "metadata": {},
   "outputs": [],
   "source": [
    "method = 'mean'"
   ]
  },
  {
   "cell_type": "code",
   "execution_count": null,
   "metadata": {},
   "outputs": [],
   "source": [
    "print('Initialize an instance of `wanderer` as `example_wanderer_mean`')\n",
    "example_wanderer_mean = wanderer(fitsFileDir=loadfitsdir, filetype = filetype, telescope='Spitzer',\n",
    "                                yguess=yguess, xguess=xguess, method=method)"
   ]
  },
  {
   "cell_type": "code",
   "execution_count": null,
   "metadata": {},
   "outputs": [],
   "source": [
    "print('Load Data From Fits Files in ' + loadfitsdir)\n",
    "example_wanderer_mean.load_data_from_fits_files()"
   ]
  },
  {
   "cell_type": "code",
   "execution_count": null,
   "metadata": {},
   "outputs": [],
   "source": [
    "print('Skipping Load Data From Save Files in ' + loadfitsdir)\n",
    "# example_wanderer_mean.load_data_from_save_files()"
   ]
  },
  {
   "cell_type": "code",
   "execution_count": null,
   "metadata": {},
   "outputs": [],
   "source": [
    "print('Find, flag, and NaN the \"Bad Pixels\" Outliers')\n",
    "example_wanderer_mean.find_bad_pixels()"
   ]
  },
  {
   "cell_type": "code",
   "execution_count": null,
   "metadata": {},
   "outputs": [],
   "source": [
    "print('Fit for All Centers: Flux Weighted, Gaussian Fitting, Gaussian Moments, Least Asymmetry')\n",
    "example_wanderer_mean.fit_gaussian_centering()\n",
    "example_wanderer_mean.fit_flux_weighted_centering()\n",
    "# example_wanderer_mean.fit_least_asymmetry_centering()\n",
    "# example_wanderer_mean.fit_all_centering()"
   ]
  },
  {
   "cell_type": "code",
   "execution_count": null,
   "metadata": {},
   "outputs": [],
   "source": [
    "print('Measure Background Estimates with All Methods: Circle Masked, Annular Masked, KDE Mode, Median Masked')\n",
    "# example_wanderer_mean.measure_background_circle_masked()\n",
    "# example_wanderer_mean.measure_background_annular_mask()\n",
    "# example_wanderer_mean.measure_background_KDE_Mode()\n",
    "# example_wanderer_mean.measure_background_median_masked()\n",
    "example_wanderer_mean.measure_all_background()"
   ]
  },
  {
   "cell_type": "code",
   "execution_count": null,
   "metadata": {},
   "outputs": [],
   "source": [
    "example_wanderer_mean.measure_effective_width()"
   ]
  },
  {
   "cell_type": "code",
   "execution_count": null,
   "metadata": {},
   "outputs": [],
   "source": [
    "print('Iterating over Background Techniques, Centering Techniques, Aperture Radii' + '\\n')\n",
    "background_choices = ['AnnularMask']#example_wanderer_mean.background_df.columns\n",
    "centering_choices  = ['Gaussian_Fit']#, 'Gaussian_Mom', 'FluxWeighted']#, 'LeastAsymmetry']\n",
    "aperRads           = [2.5] # aperRads = np.arange(1, 6,0.5)\n",
    "\n",
    "example_wanderer_mean.compute_flux_over_time_over_aperRad(staticRads, varRads, centering_choices, \\\n",
    "                                                            background_choices, useTheForce=True)"
   ]
  },
  {
   "cell_type": "code",
   "execution_count": null,
   "metadata": {
    "scrolled": true
   },
   "outputs": [],
   "source": [
    "print('Saving `example_wanderer_mean` to a set of pickles for various Image Cubes and the Storage Dictionary')\n",
    "example_wanderer_mean.save_data_to_save_files(savefiledir='./SaveFiles/', \n",
    "                                              saveFileNameHeader='Example_Wanderer_Mean_', \n",
    "                                              saveFileType='.pickle.save')"
   ]
  },
  {
   "cell_type": "raw",
   "metadata": {},
   "source": [
    "example_wanderer_mean.outlier_rejection()"
   ]
  },
  {
   "cell_type": "raw",
   "metadata": {},
   "source": [
    "example_wanderer_mean.generate_PLD_vectors()"
   ]
  },
  {
   "cell_type": "raw",
   "metadata": {},
   "source": [
    "example_wanderer_mean.maxLikelihood_pld_only()"
   ]
  }
 ],
 "metadata": {
  "anaconda-cloud": {},
  "kernelspec": {
   "display_name": "Python 3",
   "language": "python",
   "name": "python3"
  },
  "language_info": {
   "codemirror_mode": {
    "name": "ipython",
    "version": 3
   },
   "file_extension": ".py",
   "mimetype": "text/x-python",
   "name": "python",
   "nbconvert_exporter": "python",
   "pygments_lexer": "ipython3",
   "version": "3.6.3"
  }
 },
 "nbformat": 4,
 "nbformat_minor": 1
}
